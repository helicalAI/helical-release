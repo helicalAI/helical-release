{
 "cells": [
  {
   "cell_type": "code",
   "execution_count": 1,
   "metadata": {},
   "outputs": [
    {
     "name": "stderr",
     "output_type": "stream",
     "text": [
      "/home/maxime/miniconda3/envs/helical_clean/lib/python3.10/site-packages/tqdm/auto.py:21: TqdmWarning: IProgress not found. Please update jupyter and ipywidgets. See https://ipywidgets.readthedocs.io/en/stable/user_install.html\n",
      "  from .autonotebook import tqdm as notebook_tqdm\n",
      "INFO:datasets:PyTorch version 2.5.1 available.\n",
      "INFO:datasets:TensorFlow version 2.17.0 available.\n",
      "2024-12-19 19:34:31.888489: I tensorflow/core/util/port.cc:153] oneDNN custom operations are on. You may see slightly different numerical results due to floating-point round-off errors from different computation orders. To turn them off, set the environment variable `TF_ENABLE_ONEDNN_OPTS=0`.\n",
      "2024-12-19 19:34:31.897573: E external/local_xla/xla/stream_executor/cuda/cuda_fft.cc:485] Unable to register cuFFT factory: Attempting to register factory for plugin cuFFT when one has already been registered\n",
      "2024-12-19 19:34:31.907418: E external/local_xla/xla/stream_executor/cuda/cuda_dnn.cc:8454] Unable to register cuDNN factory: Attempting to register factory for plugin cuDNN when one has already been registered\n",
      "2024-12-19 19:34:31.910358: E external/local_xla/xla/stream_executor/cuda/cuda_blas.cc:1452] Unable to register cuBLAS factory: Attempting to register factory for plugin cuBLAS when one has already been registered\n",
      "2024-12-19 19:34:31.919372: I tensorflow/core/platform/cpu_feature_guard.cc:210] This TensorFlow binary is optimized to use available CPU instructions in performance-critical operations.\n",
      "To enable the following instructions: AVX2 AVX512F AVX512_VNNI AVX512_BF16 FMA, in other operations, rebuild TensorFlow with the appropriate compiler flags.\n",
      "2024-12-19 19:34:32.416958: W tensorflow/compiler/tf2tensorrt/utils/py_utils.cc:38] TF-TRT Warning: Could not find TensorRT\n"
     ]
    }
   ],
   "source": [
    "import os\n",
    "os.environ[\"CUDA_VISIBLE_DEVICES\"] = \"1\"\n",
    "import pandas as pd\n",
    "from transformers import AutoTokenizer, AutoModelForCausalLM,AutoModel\n",
    "from helical.models.genept.genept_config import GenePTConfig\n",
    "import torch\n",
    "import json\n",
    "from tqdm import tqdm\n",
    "from datasets import Dataset\n",
    "import torch\n",
    "import numpy as np\n"
   ]
  },
  {
   "cell_type": "code",
   "execution_count": 2,
   "metadata": {},
   "outputs": [
    {
     "name": "stderr",
     "output_type": "stream",
     "text": [
      "Loading checkpoint shards: 100%|██████████| 4/4 [00:00<00:00,  4.91it/s]\n"
     ]
    }
   ],
   "source": [
    "default_configurer = GenePTConfig(device=\"cuda\")\n",
    "config  = default_configurer.config\n",
    "tokenizer = AutoTokenizer.from_pretrained(config[\"model_name\"])\n",
    "model = AutoModel.from_pretrained(config[\"model_name\"],torch_dtype=torch.bfloat16,attn_implementation=\"sdpa\").to(config[\"device\"])"
   ]
  },
  {
   "cell_type": "code",
   "execution_count": 3,
   "metadata": {},
   "outputs": [],
   "source": [
    "all_texts = json.load(open(\"./NCBI_cleaned_summary_of_genes.json\"))"
   ]
  },
  {
   "cell_type": "code",
   "execution_count": 4,
   "metadata": {},
   "outputs": [],
   "source": [
    "df = pd.DataFrame([all_texts]).T\n",
    "df.columns = [\"text\"]"
   ]
  },
  {
   "cell_type": "code",
   "execution_count": 5,
   "metadata": {},
   "outputs": [],
   "source": [
    "df['embeddings'] = 0"
   ]
  },
  {
   "cell_type": "code",
   "execution_count": 9,
   "metadata": {},
   "outputs": [
    {
     "name": "stderr",
     "output_type": "stream",
     "text": [
      "100%|██████████| 16852/16852 [27:36<00:00, 10.17it/s]\n"
     ]
    }
   ],
   "source": [
    "batch_size = 2\n",
    "embeddings = []\n",
    "for batch in tqdm(range(0,len(df),batch_size)):\n",
    "    input_ids = tokenizer(df['text'][batch:batch+batch_size].values.tolist(),return_tensors=\"pt\",max_length=1000,padding=True,truncation=True).to(config[\"device\"])\n",
    "    res = model(input_ids['input_ids'],attention_mask=input_ids['attention_mask'],output_hidden_states=True)\n",
    "    # print(res.last_hidden_state.shape)\n",
    "    # print(res.last_hidden_state[:,-1].float().cpu().detach().numpy().shape)\n",
    "    embeddings.append(res.last_hidden_state[:,-1].float().cpu().detach().numpy())\n",
    "    del input_ids\n",
    "    del res"
   ]
  },
  {
   "cell_type": "code",
   "execution_count": 14,
   "metadata": {},
   "outputs": [],
   "source": [
    "all_embs = np.vstack(embeddings)\n",
    "np.save(\"genept_embeddings.npy\",all_embs)\n",
    "df['embeddings'] = all_embs.tolist()"
   ]
  },
  {
   "cell_type": "code",
   "execution_count": 37,
   "metadata": {},
   "outputs": [],
   "source": [
    "with open(\"genept_embeddings.json\",\"w\") as f:\n",
    "    json.dump(df.to_dict(orient=\"index\"),f)"
   ]
  },
  {
   "cell_type": "code",
   "execution_count": 1,
   "metadata": {},
   "outputs": [
    {
     "name": "stderr",
     "output_type": "stream",
     "text": [
      "INFO:datasets:PyTorch version 2.5.1 available.\n",
      "INFO:datasets:TensorFlow version 2.17.0 available.\n",
      "2024-12-19 19:48:07.714274: I tensorflow/core/util/port.cc:153] oneDNN custom operations are on. You may see slightly different numerical results due to floating-point round-off errors from different computation orders. To turn them off, set the environment variable `TF_ENABLE_ONEDNN_OPTS=0`.\n",
      "2024-12-19 19:48:07.723481: E external/local_xla/xla/stream_executor/cuda/cuda_fft.cc:485] Unable to register cuFFT factory: Attempting to register factory for plugin cuFFT when one has already been registered\n",
      "2024-12-19 19:48:07.733196: E external/local_xla/xla/stream_executor/cuda/cuda_dnn.cc:8454] Unable to register cuDNN factory: Attempting to register factory for plugin cuDNN when one has already been registered\n",
      "2024-12-19 19:48:07.736128: E external/local_xla/xla/stream_executor/cuda/cuda_blas.cc:1452] Unable to register cuBLAS factory: Attempting to register factory for plugin cuBLAS when one has already been registered\n",
      "2024-12-19 19:48:07.744618: I tensorflow/core/platform/cpu_feature_guard.cc:210] This TensorFlow binary is optimized to use available CPU instructions in performance-critical operations.\n",
      "To enable the following instructions: AVX2 AVX512F AVX512_VNNI AVX512_BF16 FMA, in other operations, rebuild TensorFlow with the appropriate compiler flags.\n",
      "2024-12-19 19:48:08.379623: W tensorflow/compiler/tf2tensorrt/utils/py_utils.cc:38] TF-TRT Warning: Could not find TensorRT\n",
      "Loading checkpoint shards: 100%|██████████| 4/4 [00:03<00:00,  1.07it/s]\n",
      "INFO:helical.models.genept.model:GenePT initialized successfully.\n",
      "Generating train split: 100%|██████████| 25344/25344 [00:13<00:00, 1851.89 examples/s]\n",
      "Generating test split: 100%|██████████| 6336/6336 [00:02<00:00, 2118.49 examples/s]\n"
     ]
    }
   ],
   "source": [
    "from helical.models.genept.model import GenePT, GenePTConfig\n",
    "from datasets import load_dataset\n",
    "from helical.utils import get_anndata_from_hf_dataset\n",
    "\n",
    "genept_config = GenePTConfig(device=\"cuda\")\n",
    "genept = GenePT(configurer = genept_config)\n",
    "\n",
    "# either load via huggingface\n",
    "hf_dataset = load_dataset(\"helical-ai/yolksac_human\",split=\"train[:5%]\", trust_remote_code=True, download_mode=\"reuse_cache_if_exists\")\n",
    "ann_data = get_anndata_from_hf_dataset(hf_dataset)"
   ]
  },
  {
   "cell_type": "code",
   "execution_count": 2,
   "metadata": {},
   "outputs": [],
   "source": [
    "data = genept.process_data(ann_data)"
   ]
  },
  {
   "cell_type": "code",
   "execution_count": null,
   "metadata": {},
   "outputs": [],
   "source": [
    "embs = genept.get_embeddings(data)"
   ]
  },
  {
   "cell_type": "code",
   "execution_count": 5,
   "metadata": {},
   "outputs": [
    {
     "data": {
      "text/plain": [
       "torch.Size([1267, 4096])"
      ]
     },
     "execution_count": 5,
     "metadata": {},
     "output_type": "execute_result"
    }
   ],
   "source": [
    "embs.shape"
   ]
  },
  {
   "cell_type": "code",
   "execution_count": null,
   "metadata": {},
   "outputs": [],
   "source": []
  }
 ],
 "metadata": {
  "kernelspec": {
   "display_name": "helical_clean",
   "language": "python",
   "name": "python3"
  },
  "language_info": {
   "codemirror_mode": {
    "name": "ipython",
    "version": 3
   },
   "file_extension": ".py",
   "mimetype": "text/x-python",
   "name": "python",
   "nbconvert_exporter": "python",
   "pygments_lexer": "ipython3",
   "version": "3.10.13"
  }
 },
 "nbformat": 4,
 "nbformat_minor": 2
}
